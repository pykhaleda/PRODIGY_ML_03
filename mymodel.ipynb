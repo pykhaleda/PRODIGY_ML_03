{
 "cells": [
  {
   "cell_type": "markdown",
   "id": "c9a7c6fb-b639-48cd-8046-a095de329838",
   "metadata": {},
   "source": [
    "### `This Notebook is for classification Project \"classify images of cats and dogs\"`\n",
    "###  Implement a support vector machine (SVM) to classify images of cats and dogs\n",
    "\n",
    "\n",
    "### `By: Eng/ Khaled Ali Ahmed`\n",
    "\n",
    "> [LinkedIn](www.linkedin.com/in/khaledalzebibi/)  <br />\n",
    "> [GitHub](www.github.com/pykhaleda)   <br />\n",
    "> [Facebook](www.facebook.com/pykhal)   <br />"
   ]
  },
  {
   "cell_type": "code",
   "execution_count": 1,
   "id": "335e3a0b-77bf-41c9-82f7-22f0f0496357",
   "metadata": {},
   "outputs": [
    {
     "name": "stdout",
     "output_type": "stream",
     "text": [
      "WARNING:tensorflow:From C:\\Users\\IT STORE\\anaconda3\\Lib\\site-packages\\keras\\src\\losses.py:2976: The name tf.losses.sparse_softmax_cross_entropy is deprecated. Please use tf.compat.v1.losses.sparse_softmax_cross_entropy instead.\n",
      "\n"
     ]
    }
   ],
   "source": [
    "## Major Libraries\n",
    "import numpy as np\n",
    "import pandas as pd\n",
    "import cv2\n",
    "## Other\n",
    "import os\n",
    "import zipfile\n",
    "import warnings\n",
    "warnings.filterwarnings(\"ignore\")\n",
    "import opendatasets as od\n",
    "## sklearn \n",
    "from sklearn.model_selection import train_test_split, GridSearchCV\n",
    "from sklearn.svm import SVC\n",
    "from sklearn.svm import LinearSVC, SVC   \n",
    "from sklearn.metrics import accuracy_score, classification_report, mean_squared_error\n",
    "from sklearn import preprocessing\n",
    "from sklearn import svm\n",
    "from sklearn.preprocessing import MinMaxScaler\n",
    "from sklearn.metrics import accuracy_score\n",
    "\n",
    "## keras\n",
    "from keras.preprocessing.image import ImageDataGenerator"
   ]
  },
  {
   "cell_type": "code",
   "execution_count": null,
   "id": "6cac2c3b-a4e0-44da-85ac-df965f6a194c",
   "metadata": {},
   "outputs": [],
   "source": [
    "## download the dataset\n",
    "od.download(\"https://www.kaggle.com/c/dogs-vs-cats/data\")"
   ]
  },
  {
   "cell_type": "code",
   "execution_count": null,
   "id": "7e984bfc-4d7d-4285-a879-c83e5f776e37",
   "metadata": {},
   "outputs": [],
   "source": [
    "\n",
    "local_zip = os.path.join(os.getcwd(),'dogs-vs-cats')\n",
    "zip_files = ['test1', 'train']\n",
    "\n",
    "for zip_file in zip_files:\n",
    "    with zipfile.ZipFile(\"{}/{}.zip\".format(local_zip, zip_file),\"r\") as z:\n",
    "        z.extractall(\".\")\n",
    "        print(\"{} unzipped\".format(zip_file))\n"
   ]
  },
  {
   "cell_type": "code",
   "execution_count": 2,
   "id": "b5dcf245-a89e-4547-b933-075116fdcc61",
   "metadata": {},
   "outputs": [
    {
     "name": "stdout",
     "output_type": "stream",
     "text": [
      "Contents of base directory:\n",
      "['.ipynb_checkpoints', 'dogs-vs-cats', 'mymodel.ipynb', 'test1', 'train']\n",
      "\n",
      "Contents of train directory:\n",
      "total cat training  images : 12500\n",
      "total dog training  images : 12500\n",
      "total testing images : 12500\n"
     ]
    }
   ],
   "source": [
    "base_dir = os.getcwd()\n",
    "\n",
    "print(\"Contents of base directory:\")\n",
    "print(os.listdir(base_dir))\n",
    "\n",
    "print(\"\\nContents of train directory:\")\n",
    "#print(os.listdir(f'{base_dir}/train'))\n",
    "\n",
    "\n",
    "\n",
    "train_cats = os.path.join(base_dir, 'train/cats')\n",
    "train_dogs = os.path.join(base_dir, 'train/dogs')\n",
    "test_dir = os.path.join(base_dir, 'test1')\n",
    "\n",
    "\n",
    "print('total cat training  images :', len(os.listdir(      train_cats ) ))\n",
    "print('total dog training  images :', len(os.listdir(      train_dogs ) ))\n",
    "print('total testing images :', len(os.listdir(      test_dir ) ))"
   ]
  },
  {
   "cell_type": "code",
   "execution_count": 3,
   "id": "403cd9ee-f936-4e64-81f1-7f182cf9d46d",
   "metadata": {},
   "outputs": [],
   "source": [
    "## title Load and preprocess images\n",
    "def load_images(folder):\n",
    "    images = []\n",
    "    labels = []\n",
    "    for filename in os.listdir(folder):\n",
    "        img_path = os.path.join(folder, filename)\n",
    "        img = cv2.imread(img_path)\n",
    "        img = cv2.cvtColor(img, cv2.COLOR_BGR2GRAY)  # Convert to grayscale\n",
    "        img = cv2.resize(img, (64, 64))  # Resize the image\n",
    "        images.append(img.flatten())  # Flatten the image matrix\n",
    "        labels.append(1 if \"dog\" in filename else 0)  # Assign label 1 for dogs, 0 for cats\n",
    "    return np.array(images), np.array(labels)\n",
    "\n",
    "# Load training set\n",
    "train_cats, label_cats = load_images(train_cats)\n",
    "train_dogs, label_dogs = load_images(train_dogs)\n",
    "\n",
    "# Concatenate cat and dog data\n",
    "X_train = np.concatenate((train_cats, train_dogs), axis=0)\n",
    "y_train = np.concatenate((label_cats, label_dogs), axis=0)\n",
    "X_test = load_images(test_dir)[0]"
   ]
  },
  {
   "cell_type": "code",
   "execution_count": 4,
   "id": "4184fb75-0c19-439a-86d6-ecbf6051f681",
   "metadata": {},
   "outputs": [
    {
     "name": "stdout",
     "output_type": "stream",
     "text": [
      "traing set shape:  (25000, 4096)\n",
      "labes of traing set shape:  (25000,)\n",
      "test set shape:  (12500, 4096)\n"
     ]
    }
   ],
   "source": [
    "print('traing set shape: ', X_train.shape)\n",
    "print('labes of traing set shape: ', y_train.shape)\n",
    "print('test set shape: ', X_test.shape)"
   ]
  },
  {
   "cell_type": "code",
   "execution_count": 5,
   "id": "2bd1e4be-7a47-4d84-b833-d1df07049820",
   "metadata": {},
   "outputs": [],
   "source": [
    "scaler = MinMaxScaler()\n",
    "X_train_scaled = scaler.fit_transform(X_train)\n"
   ]
  },
  {
   "cell_type": "code",
   "execution_count": 6,
   "id": "10861e56-b8b2-4d0c-8118-0279a98af513",
   "metadata": {},
   "outputs": [],
   "source": [
    "## title Split the data into training and validation sets\n",
    "X_train_final, X_dev, y_train_final, y_dev = train_test_split(X_train_scaled, y_train, test_size=0.2, random_state=53, shuffle=True)"
   ]
  },
  {
   "cell_type": "code",
   "execution_count": 7,
   "id": "0124bc87-351c-4a98-af20-5fd4ffbb2949",
   "metadata": {},
   "outputs": [
    {
     "data": {
      "text/plain": [
       "(20000, 4096)"
      ]
     },
     "execution_count": 7,
     "metadata": {},
     "output_type": "execute_result"
    }
   ],
   "source": [
    "X_train_final.shape"
   ]
  },
  {
   "cell_type": "code",
   "execution_count": null,
   "id": "ce86a913-4ed8-4da2-ae7b-787888ad23d9",
   "metadata": {},
   "outputs": [],
   "source": [
    "# ## title Image augmentation\n",
    "# datagen = ImageDataGenerator(rotation_range=20, width_shift_range=0.2, height_shift_range=0.2, shear_range=0.2, zoom_range=0.2, horizontal_flip=True, fill_mode='nearest')\n",
    "# datagen.fit(X_train_final.reshape(-1, 64, 64, 1))\n"
   ]
  },
  {
   "cell_type": "code",
   "execution_count": null,
   "id": "cf409aa6-95aa-46c9-9a01-32cee0fb5674",
   "metadata": {},
   "outputs": [],
   "source": [
    "# augmented_data = datagen.flow(X_train_final.reshape(-1, 64, 64, 1), y_train_final)\n",
    "# X_train_augmented, y_train_augmented = augmented_data[0][0].reshape(-1, 64 * 64, 1), augmented_data[0][1]"
   ]
  },
  {
   "cell_type": "code",
   "execution_count": null,
   "id": "e771d3ea-e261-437e-96d4-473d2ed32731",
   "metadata": {},
   "outputs": [],
   "source": [
    "# X_train_augmented = X_train_augmented.reshape(X_train_augmented.shape[0], -1)\n",
    "# X_train_augmented.shape"
   ]
  },
  {
   "cell_type": "code",
   "execution_count": null,
   "id": "517711a7-6fce-441d-96c1-a504fbcff796",
   "metadata": {},
   "outputs": [],
   "source": [
    "## the first model \n",
    "svc_clf = SVC(kernel='poly', C=0.1)\n",
    "svc_clf.fit(X_train_final, y_train_final)\n",
    "train_acc = svc_clf.score(X_train_final, y_train_final)\n",
    "print(\"train accuracy:\", train_acc)"
   ]
  },
  {
   "cell_type": "code",
   "execution_count": null,
   "id": "f339f094-2960-435d-a004-a038e9774932",
   "metadata": {},
   "outputs": [],
   "source": [
    "# Hyperparameter Tuning Using GridSearchCV\n",
    "param_grid = {\n",
    "    'C': [0.1, 1, 10, 100],\n",
    "    'kernel': ['linear', 'poly', 'rbf'],\n",
    "    'degree': [2, 3, 4],  # Adjust degree range based on kernel choice\n",
    "    'gamma': [0.1, 1, 10],  # Adjust gamma range based on kernel choice\n",
    "    'coef0': [0, 0.1, 1],  # Adjust coef0 range based on kernel choice\n",
    "}\n",
    "\n",
    "svc_clf = SVC()\n",
    "grid_search = GridSearchCV(svc_clf, param_grid, scoring='accuracy', cv=5, n_jobs=-1)\n",
    "grid_search.fit(X_train_final, y_train_final)\n",
    "train_acc = svc_clf.score(X_train_final, y_train_final)\n",
    "print(\"train accuracy:\", train_acc)"
   ]
  },
  {
   "cell_type": "code",
   "execution_count": null,
   "id": "36a691e4-579a-4aa4-98b6-31e5d3199424",
   "metadata": {},
   "outputs": [],
   "source": [
    "# Get Best Parameters and Reshape Augmented Data\n",
    "best_params = grid_search.best_params_\n",
    "best_C = best_params['C']\n",
    "best_kernel = best_params['kernel']\n",
    "best_degree = best_params['degree']\n",
    "best_gamma = best_params['gamma']\n",
    "best_coef0 = best_params['coef0']\n",
    "\n",
    "\n",
    "# Fit the Model with Augmented Data and Best Parameters\n",
    "new_svc_clf = SVC(C=best_C, kernel=best_kernel, degree=best_degree, gamma=best_gamma, coef0=best_coef0)\n",
    "new_svc_clf.fit(X_train_final, y_train_final)\n",
    "\n",
    "train_acc = new_svc_clf.score(X_train_final, y_train_final)\n",
    "print(\"train accuracy:\", train_acc)"
   ]
  },
  {
   "cell_type": "code",
   "execution_count": null,
   "id": "934785d5-f510-4ada-b878-30a7efc1a32a",
   "metadata": {},
   "outputs": [],
   "source": [
    "# Evaluate on dev Set (Replace with appropriate evaluation metric)\n",
    "accuracy = new_svc_clf.score(X_dev, y_dev)\n",
    "print(\"Test accuracy:\", accuracy)"
   ]
  },
  {
   "cell_type": "code",
   "execution_count": null,
   "id": "df566118-3266-42ab-9d30-afc357478400",
   "metadata": {},
   "outputs": [],
   "source": [
    "# y_pred_train = svc_clf_poly.predict(X_train_augmented)\n",
    "# y_pred_dev = svc_clf_poly.predict(X_dev)\n",
    "# y_pred_train = svc_clf_poly.predict(X_test)\n",
    "\n",
    "\n",
    "# accuracy_train = accuracy_score(y_train_augmented, y_pred_train)\n",
    "# accuracy_dev = accuracy_score(y_dev, y_pred_dev)\n",
    "# print(f\"Accuracy of traingin data : {accuracy * 100:.2f}%\")"
   ]
  },
  {
   "cell_type": "code",
   "execution_count": null,
   "id": "01dbdb66-39c6-4037-bdac-1fef05b6e855",
   "metadata": {},
   "outputs": [],
   "source": [
    "## title Make predictions on the test set & Evaluate the model\n",
    "from sklearn.metrics import confusion_matrix, classification_report, accuracy_score, precision_score, recall_score, f1_score\n",
    "\n",
    "# Make predictions on the test set\n",
    "y_pred_dev = new_svc_clf.predict(X_dev)\n",
    "\n",
    "# Calculate accuracy\n",
    "accuracy = accuracy_score(y_dev, y_pred_dev)\n",
    "print(f\"Accuracy: {accuracy * 100:.2f}%\")\n",
    "\n",
    "# Print Confusion Matrix\n",
    "cm = confusion_matrix(y_dev, y_pred)\n",
    "print(\"Confusion Matrix:\")\n",
    "print(cm)\n",
    "\n",
    "# Print Classification Report\n",
    "report = classification_report(y_dev, y_pred)\n",
    "print(\"Classification Report:\")\n",
    "print(report)\n",
    "\n",
    "# Extract precision, recall, and F1-score from the report\n",
    "precision = precision_score(y_dev, y_pred)\n",
    "recall = recall_score(y_dev, y_pred)\n",
    "f1 = f1_score(y_dev, y_pred)\n",
    "\n",
    "# Print precision, recall, and F1-score\n",
    "print(f\"Precision: {precision:.4f}\")\n",
    "print(f\"F1-Score: {f1:.4f}\")\n"
   ]
  },
  {
   "cell_type": "code",
   "execution_count": null,
   "id": "6ea855df-6859-440e-b2bd-be928767e82e",
   "metadata": {},
   "outputs": [],
   "source": []
  },
  {
   "cell_type": "code",
   "execution_count": null,
   "id": "ae2b2535-2521-4cb9-b4c3-02215533efa1",
   "metadata": {},
   "outputs": [],
   "source": []
  },
  {
   "cell_type": "code",
   "execution_count": null,
   "id": "43dcc32c-6ae3-4991-862c-65448a672ecb",
   "metadata": {},
   "outputs": [],
   "source": []
  },
  {
   "cell_type": "code",
   "execution_count": null,
   "id": "18bc5df1-4d54-4d40-9888-5b568251108e",
   "metadata": {},
   "outputs": [],
   "source": []
  }
 ],
 "metadata": {
  "kernelspec": {
   "display_name": "Python 3 (ipykernel)",
   "language": "python",
   "name": "python3"
  },
  "language_info": {
   "codemirror_mode": {
    "name": "ipython",
    "version": 3
   },
   "file_extension": ".py",
   "mimetype": "text/x-python",
   "name": "python",
   "nbconvert_exporter": "python",
   "pygments_lexer": "ipython3",
   "version": "3.11.7"
  }
 },
 "nbformat": 4,
 "nbformat_minor": 5
}
